{
 "cells": [
  {
   "cell_type": "markdown",
   "id": "2193b279",
   "metadata": {},
   "source": [
    "## Sentiment analysis using Logistic Regression\n",
    "Given a tweet, classify it as having either a positive or negative sentiment"
   ]
  },
  {
   "cell_type": "code",
   "execution_count": 2,
   "id": "6c612f59",
   "metadata": {},
   "outputs": [],
   "source": [
    "import re\n",
    "import string\n",
    "import numpy as np \n",
    "from nltk.corpus import stopwords\n",
    "from nltk.stem import PorterStemmer\n",
    "from nltk.tokenize import TweetTokenizer"
   ]
  },
  {
   "cell_type": "markdown",
   "id": "51422a84",
   "metadata": {},
   "source": [
    "Define function to process a tweet into cleaned text:"
   ]
  },
  {
   "cell_type": "code",
   "execution_count": 29,
   "id": "0f56a5d7",
   "metadata": {},
   "outputs": [],
   "source": [
    "def process_tweet(tweet):\n",
    "\n",
    "    '''\n",
    "    Function to take in a tweet, process, and return cleaned text\n",
    "    Input:\n",
    "        tweet: str \n",
    "    Output:\n",
    "        processed_tweet: list of processed strs\n",
    "    '''\n",
    "\n",
    "    stemmer = PorterStemmer()\n",
    "    stop_words = stopwords.words('english')\n",
    "\n",
    "    # Process through re\n",
    "    tweet = re.sub(r'\\$\\w*', '', tweet)\n",
    "    tweet = re.sub(r'^RT[\\s]+', '', tweet)\n",
    "    tweet = re.sub(r'https?://[^\\s\\n\\r]+', '', tweet)\n",
    "    tweet = re.sub(r'#', '', tweet)\n",
    "\n",
    "    # Tokenize\n",
    "    tokenizer = TweetTokenizer(preserve_case=False,strip_handles=True,reduce_len=True)\n",
    "    tokens = tokenizer.tokenize(tweet)\n",
    "\n",
    "    processed_tweet = []\n",
    "\n",
    "    for word in tokens:\n",
    "        if word not in stop_words and word not in string.punctuation:\n",
    "            stem_word = stemmer.stem(word)\n",
    "            processed_tweet.append(stem_word)\n",
    "\n",
    "    return processed_tweet\n"
   ]
  },
  {
   "cell_type": "markdown",
   "id": "09c501a3",
   "metadata": {},
   "source": [
    "Define function to build frequency table of words appearing in positive, negative tweets:"
   ]
  },
  {
   "cell_type": "code",
   "execution_count": 30,
   "id": "f1c8fe77",
   "metadata": {},
   "outputs": [],
   "source": [
    "def build_freqs(tweets,ys):\n",
    "\n",
    "    ''' \n",
    "    Function to build table of word frequenices\n",
    "    Input:\n",
    "        tweets: list of tweets (strs)\n",
    "        ys: mx1 array with sentiment label of tweets (0,1)\n",
    "    Output:\n",
    "        freqs: dictionary mapping (word,sentiment) pairs to frequencies \n",
    "    '''\n",
    "\n",
    "    yslist = np.squeeze(ys).tolist()\n",
    "\n",
    "    freqs = {}\n",
    "    for y, tweet in zip(yslist,tweets):\n",
    "        for word in process_tweet(tweet):\n",
    "            pair = (word,y)\n",
    "            if pair in freqs:\n",
    "                freqs[pair] += 1\n",
    "            else:\n",
    "                freqs[pair] = 1\n",
    "\n",
    "    return freqs"
   ]
  },
  {
   "cell_type": "code",
   "execution_count": 5,
   "id": "cfff08b8",
   "metadata": {},
   "outputs": [
    {
     "name": "stderr",
     "output_type": "stream",
     "text": [
      "[nltk_data] Downloading package twitter_samples to\n",
      "[nltk_data]     /Users/bretthagan/nltk_data...\n",
      "[nltk_data]   Unzipping corpora/twitter_samples.zip.\n",
      "[nltk_data] Downloading package stopwords to\n",
      "[nltk_data]     /Users/bretthagan/nltk_data...\n",
      "[nltk_data]   Unzipping corpora/stopwords.zip.\n"
     ]
    },
    {
     "data": {
      "text/plain": [
       "True"
      ]
     },
     "execution_count": 5,
     "metadata": {},
     "output_type": "execute_result"
    }
   ],
   "source": [
    "import nltk\n",
    "\n",
    "nltk.download('twitter_samples')\n",
    "nltk.download('stopwords')"
   ]
  },
  {
   "cell_type": "code",
   "execution_count": 8,
   "id": "62deea67",
   "metadata": {},
   "outputs": [],
   "source": [
    "import pandas as pd\n",
    "\n",
    "from nltk.corpus import twitter_samples"
   ]
  },
  {
   "cell_type": "markdown",
   "id": "50602808",
   "metadata": {},
   "source": [
    "Split into training and testing sets:"
   ]
  },
  {
   "cell_type": "code",
   "execution_count": 15,
   "id": "29bb9243",
   "metadata": {},
   "outputs": [],
   "source": [
    "# select the set of positive and negative tweets\n",
    "all_positive_tweets = twitter_samples.strings('positive_tweets.json')\n",
    "all_negative_tweets = twitter_samples.strings('negative_tweets.json')\n",
    "\n",
    "# split into 80/20 train/test split\n",
    "test_pos = all_positive_tweets[4000:]\n",
    "train_pos = all_positive_tweets[:4000]\n",
    "test_neg = all_negative_tweets[4000:]\n",
    "train_neg = all_negative_tweets[:4000]\n",
    "\n",
    "train_x = train_pos + train_neg \n",
    "test_x = test_pos + test_neg\n",
    "\n",
    "train_y = np.append(np.ones((len(train_pos), 1)), np.zeros((len(train_neg), 1)), axis=0)\n",
    "test_y = np.append(np.ones((len(test_pos), 1)), np.zeros((len(test_neg), 1)), axis=0)"
   ]
  },
  {
   "cell_type": "code",
   "execution_count": 16,
   "id": "12af94a9",
   "metadata": {},
   "outputs": [],
   "source": [
    "# create frequency dictionary\n",
    "freqs = build_freqs(train_x, train_y)"
   ]
  },
  {
   "cell_type": "code",
   "execution_count": 18,
   "id": "5086122b",
   "metadata": {},
   "outputs": [
    {
     "name": "stdout",
     "output_type": "stream",
     "text": [
      "#FollowFriday @France_Inte @PKuchly57 @Milipol_Paris for being top engaged members in my community this week :)\n",
      "['followfriday', 'top', 'engag', 'member', 'commun', 'week', ':)']\n"
     ]
    }
   ],
   "source": [
    "print(train_x[0])\n",
    "print(process_tweet(train_x[0]))"
   ]
  },
  {
   "cell_type": "code",
   "execution_count": 19,
   "id": "ea4710d8",
   "metadata": {},
   "outputs": [],
   "source": [
    "def sigmoid(z):\n",
    "    \n",
    "    '''\n",
    "    Input:\n",
    "        z: scalar or array input\n",
    "    Output:\n",
    "        h: sigmoid of input z\n",
    "    '''\n",
    "\n",
    "    h = 1 / (1 + np.exp(-z))\n",
    "\n",
    "    return h"
   ]
  },
  {
   "cell_type": "code",
   "execution_count": 21,
   "id": "32c27e4a",
   "metadata": {},
   "outputs": [],
   "source": [
    "def gradient_desecent(x,y,theta,alpha,num_iters):\n",
    "\n",
    "    ''' \n",
    "    Input:\n",
    "        x: matrix of features\n",
    "        y: corresponding labels of x\n",
    "        theta: weight vector\n",
    "        alpha: learning rate\n",
    "        num_iters: number of training iterations\n",
    "    Output:\n",
    "        J: cost\n",
    "        theta: final weight vector\n",
    "    '''\n",
    "\n",
    "    m = len(x)\n",
    "\n",
    "    for i in range(0,num_iters):\n",
    "\n",
    "        z = np.dot(x,theta)\n",
    "        h = sigmoid(z)\n",
    "        J = (-1/m) * (np.dot(y.T,np.log(h)) + np.dot((1-y).T,np.log(1-h)))\n",
    "        theta = theta - (alpha/m) * np.dot(x.T,(h-y))\n",
    "\n",
    "    return float(J),theta"
   ]
  },
  {
   "cell_type": "code",
   "execution_count": 22,
   "id": "6599a05c",
   "metadata": {},
   "outputs": [],
   "source": [
    "def extract_features(tweet,freqs,process_tweet=process_tweet):\n",
    "\n",
    "    ''' \n",
    "    Input:\n",
    "        tweet: str\n",
    "        freqs: dict of frequencies of (word,label) tuples\n",
    "    Output:\n",
    "        x: feature vector\n",
    "    '''\n",
    "\n",
    "    word_l = process_tweet(tweet)\n",
    "\n",
    "    # 3 element feature vector [bias, pos, neg]\n",
    "    x = np.zeros(3)\n",
    "    # Set bias to 1\n",
    "    x[0] = 1\n",
    "\n",
    "    for word in word_l:\n",
    "        x[1] += freqs.get((word,1.0),0)\n",
    "        x[2] += freqs.get((word,0.0),0)\n",
    "    \n",
    "    x = x[None,:]\n",
    "    assert(x.shape==(1,3))\n",
    "    return x\n"
   ]
  },
  {
   "cell_type": "code",
   "execution_count": 23,
   "id": "41aedceb",
   "metadata": {},
   "outputs": [
    {
     "name": "stderr",
     "output_type": "stream",
     "text": [
      "/var/folders/39/19d2dqw15vb8dv4kddnc_rx00000gn/T/ipykernel_10786/1712691963.py:24: DeprecationWarning: Conversion of an array with ndim > 0 to a scalar is deprecated, and will error in future. Ensure you extract a single element from your array before performing this operation. (Deprecated NumPy 1.25.)\n",
      "  return float(J),theta\n"
     ]
    }
   ],
   "source": [
    "X = np.zeros((len(train_x),3))\n",
    "for i in range(len(train_x)):\n",
    "    X[i,:] = extract_features(train_x[i],freqs)\n",
    "\n",
    "Y = train_y\n",
    "\n",
    "# gradient descent\n",
    "J,theta = gradient_desecent(X,Y,np.zeros((3,1)),1e-9,1500)"
   ]
  },
  {
   "cell_type": "code",
   "execution_count": 24,
   "id": "37149e00",
   "metadata": {},
   "outputs": [],
   "source": [
    "def predict_tweet(tweet,freqs,theta):\n",
    "\n",
    "    ''' \n",
    "    Input:\n",
    "        tweet: str\n",
    "        freqs: dictionary of tuples\n",
    "        theta: weight vector\n",
    "    Output:\n",
    "        y_pred: probability of a tweet being pos or neg\n",
    "    '''\n",
    "\n",
    "    x = extract_features(tweet,freqs)\n",
    "    y_pred = sigmoid(np.dot(x,theta))\n",
    "\n",
    "    return y_pred"
   ]
  },
  {
   "cell_type": "code",
   "execution_count": 25,
   "id": "df7bf85e",
   "metadata": {},
   "outputs": [
    {
     "name": "stdout",
     "output_type": "stream",
     "text": [
      "I am happy -> 0.519259\n",
      "I am bad -> 0.494338\n",
      "this movie should have been great. -> 0.515962\n",
      "great -> 0.516052\n",
      "great great -> 0.532070\n",
      "great great great -> 0.548023\n",
      "great great great great -> 0.563877\n"
     ]
    },
    {
     "name": "stderr",
     "output_type": "stream",
     "text": [
      "/var/folders/39/19d2dqw15vb8dv4kddnc_rx00000gn/T/ipykernel_10786/714193173.py:2: DeprecationWarning: Conversion of an array with ndim > 0 to a scalar is deprecated, and will error in future. Ensure you extract a single element from your array before performing this operation. (Deprecated NumPy 1.25.)\n",
      "  print( '%s -> %f' % (tweet, predict_tweet(tweet, freqs, theta)))\n"
     ]
    }
   ],
   "source": [
    "for tweet in ['I am happy', 'I am bad', 'this movie should have been great.', 'great', 'great great', 'great great great', 'great great great great']:\n",
    "    print( '%s -> %f' % (tweet, predict_tweet(tweet, freqs, theta)))    "
   ]
  },
  {
   "cell_type": "code",
   "execution_count": 26,
   "id": "6530cd4b",
   "metadata": {},
   "outputs": [],
   "source": [
    "def test_logistic_regression(test_x,test_y,freqs,theta,predict_tweet=predict_tweet):\n",
    "\n",
    "    ''' \n",
    "    Input:\n",
    "        test_x: list of tweets\n",
    "        test_y: corresponding labels\n",
    "        freqs: dictionary of freq counts\n",
    "        theta: weight vector\n",
    "    Output:\n",
    "        accuracy\n",
    "    '''\n",
    "\n",
    "    y_hat = []\n",
    "\n",
    "    for tweet in test_x:\n",
    "        y_pred = predict_tweet(tweet,freqs,theta)\n",
    "\n",
    "        if y_pred > 0.5: y_hat.append(1.0)\n",
    "        else: y_hat.append(0.0)\n",
    "\n",
    "    accuracy = (y_hat==np.squeeze(test_y)).sum() / len(test_x)\n",
    "\n",
    "    return accuracy"
   ]
  },
  {
   "cell_type": "code",
   "execution_count": 27,
   "id": "de7767cb",
   "metadata": {},
   "outputs": [
    {
     "name": "stdout",
     "output_type": "stream",
     "text": [
      "Logistic regression model's accuracy = 0.9965\n"
     ]
    }
   ],
   "source": [
    "tmp_accuracy = test_logistic_regression(test_x, test_y, freqs, theta)\n",
    "print(f\"Logistic regression model's accuracy = {tmp_accuracy:.4f}\")"
   ]
  },
  {
   "cell_type": "markdown",
   "id": "2f15fcdd",
   "metadata": {},
   "source": [
    "Classify example tweets as either positive or negative:"
   ]
  },
  {
   "cell_type": "code",
   "execution_count": 28,
   "id": "1eb6118b",
   "metadata": {},
   "outputs": [
    {
     "name": "stdout",
     "output_type": "stream",
     "text": [
      "Negative tweet\n",
      "Positive tweet\n",
      "Negative tweet\n"
     ]
    }
   ],
   "source": [
    "# test sentiment classification with example tweets\n",
    "tweet_1 = 'This movie is awful. I was bored out of my mind the whole time!'\n",
    "tweet_2 = 'Best movie of the year, incredible!'\n",
    "tweet_3 = 'This movie is awfully hard to watch, but still an incredible experience.'\n",
    "\n",
    "tweets = [tweet_1,tweet_2,tweet_3]\n",
    "for tweet in tweets:\n",
    "    y_hat = predict_tweet(tweet,freqs,theta)\n",
    "    if y_hat > 0.5: print('Positive tweet')\n",
    "    else: print('Negative tweet')"
   ]
  }
 ],
 "metadata": {
  "kernelspec": {
   "display_name": "conda_env_1",
   "language": "python",
   "name": "python3"
  },
  "language_info": {
   "codemirror_mode": {
    "name": "ipython",
    "version": 3
   },
   "file_extension": ".py",
   "mimetype": "text/x-python",
   "name": "python",
   "nbconvert_exporter": "python",
   "pygments_lexer": "ipython3",
   "version": "3.12.9"
  }
 },
 "nbformat": 4,
 "nbformat_minor": 5
}
