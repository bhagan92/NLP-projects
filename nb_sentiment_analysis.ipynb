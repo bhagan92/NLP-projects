{
 "cells": [
  {
   "cell_type": "markdown",
   "id": "5cd7effa",
   "metadata": {},
   "source": [
    "## Sentiment analysis using naive bayes"
   ]
  },
  {
   "cell_type": "code",
   "execution_count": 6,
   "id": "3a1e4069",
   "metadata": {},
   "outputs": [],
   "source": [
    "import re\n",
    "import string\n",
    "import pdb\n",
    "import nltk\n",
    "import string\n",
    "from nltk.corpus import stopwords,twitter_samples\n",
    "from nltk.stem import PorterStemmer\n",
    "from nltk.tokenize import TweetTokenizer\n",
    "from matplotlib.patches import Ellipse\n",
    "from matplotlib import transforms\n",
    "import numpy as np\n",
    "import pandas as pd"
   ]
  },
  {
   "cell_type": "code",
   "execution_count": 4,
   "id": "29cf6bd1",
   "metadata": {},
   "outputs": [],
   "source": [
    "def process_tweet(tweet):\n",
    "\n",
    "    ''' \n",
    "    Input: \n",
    "        tweet: str\n",
    "    Output:\n",
    "        cleaned_tweet: list of strs\n",
    "    '''\n",
    "    stemmer = PorterStemmer()\n",
    "    stop_words = stopwords.words('english')\n",
    "\n",
    "    tweet = re.sub(r'\\$\\w*', '', tweet)\n",
    "    tweet = re.sub(r'^RT[\\s]+', '', tweet)\n",
    "    tweet = re.sub(r'https?://[^\\s\\n\\r]+', '', tweet)\n",
    "    tweet = re.sub(r'#', '', tweet)\n",
    "    tokenizer = TweetTokenizer(preserve_case=False, strip_handles=True,\n",
    "                               reduce_len=True)\n",
    "    tokens = tokenizer.tokenize(tweet)\n",
    "\n",
    "    cleaned_tweet = []\n",
    "\n",
    "    for word in tokens:\n",
    "        if word not in stop_words and word not in string.punctuation:\n",
    "            stem_word = stemmer.stem(word)\n",
    "            cleaned_tweet.append(stem_word)\n",
    "\n",
    "    return cleaned_tweet"
   ]
  },
  {
   "cell_type": "code",
   "execution_count": 5,
   "id": "6da5c2c9",
   "metadata": {},
   "outputs": [],
   "source": [
    "def lookup(freqs,word,label):\n",
    "\n",
    "    ''' \n",
    "    Input:\n",
    "        freqs: dict\n",
    "        word: str\n",
    "        label: int\n",
    "    '''\n",
    "    n = 0\n",
    "\n",
    "    pair = (word,label)\n",
    "    if (pair in freqs): n = freqs[pair]\n",
    "\n",
    "    return n"
   ]
  },
  {
   "cell_type": "code",
   "execution_count": 7,
   "id": "3c884bac",
   "metadata": {},
   "outputs": [],
   "source": [
    "# get the sets of positive and negative tweets\n",
    "all_positive_tweets = twitter_samples.strings('positive_tweets.json')\n",
    "all_negative_tweets = twitter_samples.strings('negative_tweets.json')\n",
    "\n",
    "# split the data into two pieces, one for training and one for testing (validation set)\n",
    "test_pos = all_positive_tweets[4000:]\n",
    "train_pos = all_positive_tweets[:4000]\n",
    "test_neg = all_negative_tweets[4000:]\n",
    "train_neg = all_negative_tweets[:4000]\n",
    "\n",
    "train_x = train_pos + train_neg\n",
    "test_x = test_pos + test_neg\n",
    "\n",
    "# avoid assumptions about the length of all_positive_tweets\n",
    "train_y = np.append(np.ones(len(train_pos)), np.zeros(len(train_neg)))\n",
    "test_y = np.append(np.ones(len(test_pos)), np.zeros(len(test_neg)))"
   ]
  },
  {
   "cell_type": "code",
   "execution_count": 8,
   "id": "389e3902",
   "metadata": {},
   "outputs": [],
   "source": [
    "def count_tweets(result,tweets,ys):\n",
    "\n",
    "    ''' \n",
    "    Input:\n",
    "        result: dict\n",
    "        tweets: list of tweets\n",
    "        ys: list of sentiments (ints)\n",
    "    Output:\n",
    "        result: dict mapping pair to frequency\n",
    "    '''\n",
    "\n",
    "    for y,tweet in zip(ys,tweets):\n",
    "        for word in process_tweet(tweet):\n",
    "            pair = (word,y)\n",
    "            if pair in result: result[pair] += 1\n",
    "            else: result[pair] = 1\n",
    "\n",
    "    return result"
   ]
  },
  {
   "cell_type": "code",
   "execution_count": 9,
   "id": "ca1cb014",
   "metadata": {},
   "outputs": [],
   "source": [
    "freqs = count_tweets({}, train_x, train_y)"
   ]
  },
  {
   "cell_type": "code",
   "execution_count": 10,
   "id": "8e6b3d0a",
   "metadata": {},
   "outputs": [],
   "source": [
    "def train_naive_bayes(freqs,train_x,train_y):\n",
    "\n",
    "    ''' \n",
    "    Input:\n",
    "        freqs: dict\n",
    "        train_x: list of tweets\n",
    "        train_y: list of sentiment labels\n",
    "    Output:\n",
    "        logprior\n",
    "        loglikelihood\n",
    "    '''\n",
    "\n",
    "    loglikelihood = {}\n",
    "    logprior = 0\n",
    "\n",
    "    vocab = set([pair[0] for pair in freqs.keys()])\n",
    "    V = len(vocab)\n",
    "\n",
    "    N_pos = N_neg = 0\n",
    "    for pair in freqs.keys():\n",
    "        if pair[1] > 0:\n",
    "            N_pos += freqs[pair]\n",
    "        else: N_neg += freqs[pair]\n",
    "\n",
    "    D = len(train_y)\n",
    "    D_pos = (len(list(filter(lambda x: x > 0, train_y))))\n",
    "    D_neg = (len(list(filter(lambda x: x <= 0, train_y))))\n",
    "\n",
    "    logprior = np.log(D_pos) - np.log(D_neg)\n",
    "\n",
    "    for word in vocab:\n",
    "        freq_pos = lookup(freqs,word,1)\n",
    "        freq_neg = lookup(freqs,word,0)\n",
    "\n",
    "        p_w_pos = (freq_pos + 1)/(N_pos + V)\n",
    "        p_w_neg = (freq_neg + 1)/(N_neg + V)\n",
    "\n",
    "        loglikelihood[word] = np.log(p_w_pos/p_w_neg)\n",
    "\n",
    "    return logprior,loglikelihood\n"
   ]
  },
  {
   "cell_type": "code",
   "execution_count": 11,
   "id": "e1a7328f",
   "metadata": {},
   "outputs": [],
   "source": [
    "def naive_bayes_predict(tweet,logprior,loglikelihood):\n",
    "\n",
    "    ''' \n",
    "    Input:\n",
    "        tweet: str\n",
    "        logprior: float\n",
    "        loglikelihood: dict mapping words to numbers\n",
    "    Output:\n",
    "        p: sum of loglikelihoods\n",
    "    '''\n",
    "\n",
    "    word_l = process_tweet(tweet)\n",
    "\n",
    "    p = 0\n",
    "    p += logprior\n",
    "\n",
    "    for word in word_l:\n",
    "\n",
    "        if word in loglikelihood: p += loglikelihood[word]\n",
    "\n",
    "    return p"
   ]
  },
  {
   "cell_type": "code",
   "execution_count": 15,
   "id": "ae9868aa",
   "metadata": {},
   "outputs": [
    {
     "name": "stdout",
     "output_type": "stream",
     "text": [
      "1.5542634605271097\n"
     ]
    }
   ],
   "source": [
    "logprior, loglikelihood = train_naive_bayes(freqs, train_x, train_y)\n",
    "my_tweet = 'She smiled.'\n",
    "p = naive_bayes_predict(my_tweet, logprior, loglikelihood)\n",
    "print(p)\n"
   ]
  },
  {
   "cell_type": "code",
   "execution_count": 16,
   "id": "30980042",
   "metadata": {},
   "outputs": [],
   "source": [
    "def test_naive_bayes(test_x,test_y,logprior,loglikelihood,naive_bayes_predict=naive_bayes_predict):\n",
    "\n",
    "    ''' \n",
    "    Input: \n",
    "        test_x: list of strs\n",
    "        test_y: corresponding sentiment labels\n",
    "        logprior\n",
    "        loglikelihood\n",
    "    Output:\n",
    "        accuracy\n",
    "    '''\n",
    "\n",
    "    accuracy = 0\n",
    "\n",
    "    y_hats = []\n",
    "    for tweet in test_x:\n",
    "        if naive_bayes_predict(tweet,logprior,loglikelihood) > 0:\n",
    "            y_hat_i = 1\n",
    "        else: \n",
    "            y_hat_i = 0\n",
    "\n",
    "        y_hats.append(y_hat_i)\n",
    "\n",
    "    error = np.mean(np.absolute(y_hats-test_y))\n",
    "    accuracy = 1-error\n",
    "\n",
    "    return accuracy"
   ]
  },
  {
   "cell_type": "code",
   "execution_count": 17,
   "id": "e536d379",
   "metadata": {},
   "outputs": [
    {
     "name": "stdout",
     "output_type": "stream",
     "text": [
      "Naive Bayes accuracy = 0.9955\n"
     ]
    }
   ],
   "source": [
    "print(\"Naive Bayes accuracy = %0.4f\" %\n",
    "      (test_naive_bayes(test_x, test_y, logprior, loglikelihood)))\n"
   ]
  },
  {
   "cell_type": "markdown",
   "id": "c4505f08",
   "metadata": {},
   "source": [
    "Test with example tweets:"
   ]
  },
  {
   "cell_type": "code",
   "execution_count": 23,
   "id": "33c0eaf0",
   "metadata": {},
   "outputs": [
    {
     "name": "stdout",
     "output_type": "stream",
     "text": [
      "2.153758514183751\n"
     ]
    }
   ],
   "source": [
    "tweet = 'I am very happy today!'\n",
    "p = naive_bayes_predict(tweet, logprior, loglikelihood)\n",
    "print(p)"
   ]
  },
  {
   "cell_type": "code",
   "execution_count": 22,
   "id": "d2b40038",
   "metadata": {},
   "outputs": [
    {
     "name": "stdout",
     "output_type": "stream",
     "text": [
      "-10.349699515372144\n"
     ]
    }
   ],
   "source": [
    "tweet = 'I am very very sad today :('\n",
    "p = naive_bayes_predict(tweet, logprior, loglikelihood)\n",
    "print(p)"
   ]
  }
 ],
 "metadata": {
  "kernelspec": {
   "display_name": "conda_env_1",
   "language": "python",
   "name": "python3"
  },
  "language_info": {
   "codemirror_mode": {
    "name": "ipython",
    "version": 3
   },
   "file_extension": ".py",
   "mimetype": "text/x-python",
   "name": "python",
   "nbconvert_exporter": "python",
   "pygments_lexer": "ipython3",
   "version": "3.12.9"
  }
 },
 "nbformat": 4,
 "nbformat_minor": 5
}
